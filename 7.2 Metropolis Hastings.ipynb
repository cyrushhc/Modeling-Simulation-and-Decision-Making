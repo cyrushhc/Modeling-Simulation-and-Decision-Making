{
 "cells": [
  {
   "cell_type": "code",
   "execution_count": 1,
   "metadata": {},
   "outputs": [],
   "source": [
    "def f(x):\n",
    "    Z = 24.44321494051954\n",
    "    if abs(x) > 7:\n",
    "        return 0\n",
    "    elif abs(x) > 3:\n",
    "        return 3 * (1 - (x / 7) ** 2) ** 0.5 / Z\n",
    "    elif abs(x) > 1:\n",
    "        return ((3 - abs(x)) / 2 - 3/7 * 10**0.5 * ((3 - x**2 + 2*abs(x))**0.5 - 2)) / Z\n",
    "    elif abs(x) > 0.75:\n",
    "        return (9 - 8 * abs(x)) / Z\n",
    "    elif abs(x) > 0.5:\n",
    "        return (3 * abs(x) + 0.75) / Z\n",
    "    else:\n",
    "        return 2.25 / Z"
   ]
  },
  {
   "cell_type": "code",
   "execution_count": 11,
   "metadata": {},
   "outputs": [],
   "source": [
    "import scipy.stats as sts\n",
    "import random\n",
    "import matplotlib.pyplot as plt"
   ]
  },
  {
   "cell_type": "code",
   "execution_count": 9,
   "metadata": {},
   "outputs": [],
   "source": [
    "mean= 3 #this would be initial X\n",
    "results =[]\n",
    "for i in range (100000):\n",
    "    distribution = sts.norm(loc = mean, scale = 2)\n",
    "    y =distribution.rvs()\n",
    "    p = min(1, f(y)/f(mean))\n",
    "    if random.random() < p:\n",
    "        mean = y\n",
    "        if i %100 == 0:\n",
    "            results.append(mean)\n",
    "    else:\n",
    "        continue"
   ]
  },
  {
   "cell_type": "code",
   "execution_count": 16,
   "metadata": {},
   "outputs": [
    {
     "data": {
      "text/plain": [
       "(array([15., 19., 19., 21., 26., 28., 30., 36., 22., 13., 11., 18., 24.,\n",
       "        30., 22., 25., 23., 16., 14., 12., 21., 26., 33., 35., 39., 40.,\n",
       "        32., 21., 12., 13.]),\n",
       " array([-6.65949211, -6.21139303, -5.76329395, -5.31519486, -4.86709578,\n",
       "        -4.4189967 , -3.97089762, -3.52279854, -3.07469946, -2.62660037,\n",
       "        -2.17850129, -1.73040221, -1.28230313, -0.83420405, -0.38610496,\n",
       "         0.06199412,  0.5100932 ,  0.95819228,  1.40629136,  1.85439044,\n",
       "         2.30248953,  2.75058861,  3.19868769,  3.64678677,  4.09488585,\n",
       "         4.54298493,  4.99108402,  5.4391831 ,  5.88728218,  6.33538126,\n",
       "         6.78348034]),\n",
       " <a list of 30 Patch objects>)"
      ]
     },
     "execution_count": 16,
     "metadata": {},
     "output_type": "execute_result"
    },
    {
     "data": {
      "image/png": "[encoded data removed]",
      "text/plain": [
       "<Figure size 432x288 with 1 Axes>"
      ]
     },
     "metadata": {
      "needs_background": "light"
     },
     "output_type": "display_data"
    }
   ],
   "source": [
    "plt.hist(results, bins=30)"
   ]
  },
  {
   "cell_type": "code",
   "execution_count": null,
   "metadata": {},
   "outputs": [],
   "source": []
  }
 ],
 "metadata": {
  "kernelspec": {
   "display_name": "Python 3",
   "language": "python",
   "name": "python3"
  },
  "language_info": {
   "codemirror_mode": {
    "name": "ipython",
    "version": 3
   },
   "file_extension": ".py",
   "mimetype": "text/x-python",
   "name": "python",
   "nbconvert_exporter": "python",
   "pygments_lexer": "ipython3",
   "version": "3.8.3"
  }
 },
 "nbformat": 4,
 "nbformat_minor": 4
}
